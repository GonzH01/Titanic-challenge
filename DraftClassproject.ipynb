{
 "cells": [
  {
   "cell_type": "code",
   "execution_count": 2,
   "id": "296aeada-e042-41e5-bc43-afc948b7229f",
   "metadata": {},
   "outputs": [
    {
     "name": "stdout",
     "output_type": "stream",
     "text": [
      "Logistic Regression - AUC: 0.88, F1 Score: 0.76, Log Loss: 0.42\n",
      "Decision Tree - AUC: 0.79, F1 Score: 0.74, Log Loss: 6.68\n",
      "SVM - AUC: 0.84, F1 Score: 0.77, Log Loss: 0.47\n",
      "Naive Bayes - AUC: 0.85, F1 Score: 0.74, Log Loss: 0.57\n",
      "KNN - AUC: 0.86, F1 Score: 0.77, Log Loss: 1.35\n",
      "Random Forest - AUC: 0.88, F1 Score: 0.78, Log Loss: 0.44\n",
      "Gradient Boosting - AUC: 0.88, F1 Score: 0.76, Log Loss: 0.41\n",
      "AdaBoost - AUC: 0.85, F1 Score: 0.76, Log Loss: 0.67\n",
      "PCA with Logistic Regression - AUC: 0.70, F1 Score: 0.43, Log Loss: 0.62\n"
     ]
    }
   ],
   "source": [
    "import numpy as np\n",
    "import pandas as pd\n",
    "from sklearn.model_selection import train_test_split\n",
    "from sklearn.preprocessing import StandardScaler\n",
    "from sklearn.impute import SimpleImputer\n",
    "from sklearn.preprocessing import LabelEncoder\n",
    "from sklearn.metrics import roc_auc_score, f1_score, log_loss\n",
    "from sklearn.linear_model import LogisticRegression\n",
    "from sklearn.tree import DecisionTreeClassifier\n",
    "from sklearn.svm import SVC\n",
    "from sklearn.naive_bayes import GaussianNB\n",
    "from sklearn.neighbors import KNeighborsClassifier\n",
    "from sklearn.ensemble import RandomForestClassifier, GradientBoostingClassifier, AdaBoostClassifier\n",
    "from sklearn.decomposition import PCA\n",
    "\n",
    "# Load the dataset\n",
    "data = pd.read_csv('Resources/train.csv')\n",
    "\n",
    "# Split the dataset into training and testing sets first\n",
    "train_data, test_data = train_test_split(data, test_size=0.2, random_state=42)\n",
    "\n",
    "# Impute missing values for continuous features\n",
    "imputer = SimpleImputer(strategy='mean')\n",
    "for column in ['Age', 'Fare']:\n",
    "    train_data[column] = imputer.fit_transform(train_data[[column]])\n",
    "    test_data[column] = imputer.transform(test_data[[column]])\n",
    "\n",
    "# Drop rows with missing categorical data in training; impute or drop in test\n",
    "train_data.dropna(subset=['Embarked'], inplace=True)\n",
    "test_data.dropna(subset=['Embarked'], inplace=True)\n",
    "\n",
    "# Encoding categorical variables\n",
    "label_encoder = LabelEncoder()\n",
    "for column in ['Sex', 'Embarked']:\n",
    "    train_data[column] = label_encoder.fit_transform(train_data[column])\n",
    "    test_data[column] = label_encoder.transform(test_data[column])\n",
    "\n",
    "# Feature Scaling\n",
    "scaler = StandardScaler()\n",
    "numeric_features = ['Age', 'Fare']\n",
    "train_data[numeric_features] = scaler.fit_transform(train_data[numeric_features])\n",
    "test_data[numeric_features] = scaler.transform(test_data[numeric_features])\n",
    "\n",
    "# Select features and target\n",
    "X_train = train_data[['Pclass', 'Sex', 'Age', 'SibSp', 'Parch', 'Fare', 'Embarked']]\n",
    "y_train = train_data['Survived']\n",
    "X_test = test_data[['Pclass', 'Sex', 'Age', 'SibSp', 'Parch', 'Fare', 'Embarked']]\n",
    "y_test = test_data['Survived']\n",
    "\n",
    "# Initialize and train models\n",
    "models = {\n",
    "    'Logistic Regression': LogisticRegression(),\n",
    "    'Decision Tree': DecisionTreeClassifier(),\n",
    "    'SVM': SVC(probability=True),\n",
    "    'Naive Bayes': GaussianNB(),\n",
    "    'KNN': KNeighborsClassifier(),\n",
    "    'Random Forest': RandomForestClassifier(),\n",
    "    'Gradient Boosting': GradientBoostingClassifier(),\n",
    "    'AdaBoost': AdaBoostClassifier()\n",
    "}\n",
    "\n",
    "results = {}\n",
    "for name, model in models.items():\n",
    "    model.fit(X_train, y_train)\n",
    "    y_pred = model.predict(X_test)\n",
    "    y_pred_prob = model.predict_proba(X_test)[:, 1]\n",
    "    auc = roc_auc_score(y_test, y_pred_prob)\n",
    "    f1 = f1_score(y_test, y_pred)\n",
    "    logloss = log_loss(y_test, y_pred_prob)\n",
    "    results[name] = (auc, f1, logloss)\n",
    "\n",
    "# Display results\n",
    "for name, scores in results.items():\n",
    "    print(f\"{name} - AUC: {scores[0]:.2f}, F1 Score: {scores[1]:.2f}, Log Loss: {scores[2]:.2f}\")\n",
    "\n",
    "# PCA Example\n",
    "pca = PCA(n_components=2)\n",
    "X_train_pca = pca.fit_transform(X_train)\n",
    "X_test_pca = pca.transform(X_test)\n",
    "model = LogisticRegression()\n",
    "model.fit(X_train_pca, y_train)\n",
    "y_pred = model.predict(X_test_pca)\n",
    "y_pred_prob = model.predict_proba(X_test_pca)[:, 1]\n",
    "auc = roc_auc_score(y_test, y_pred_prob)\n",
    "f1 = f1_score(y_test, y_pred)\n",
    "logloss = log_loss(y_test, y_pred_prob)\n",
    "\n",
    "print(f\"PCA with Logistic Regression - AUC: {auc:.2f}, F1 Score: {f1:.2f}, Log Loss: {logloss:.2f}\")\n"
   ]
  },
  {
   "cell_type": "code",
   "execution_count": 3,
   "id": "33861d68-f1a8-4c36-baed-cc55ba9e1fb8",
   "metadata": {},
   "outputs": [
    {
     "name": "stdout",
     "output_type": "stream",
     "text": [
      "    Feature  Importance\n",
      "1       Sex    0.466540\n",
      "5      Fare    0.162500\n",
      "0    Pclass    0.153362\n",
      "2       Age    0.136990\n",
      "3     SibSp    0.054020\n",
      "6  Embarked    0.019907\n",
      "4     Parch    0.006681\n"
     ]
    }
   ],
   "source": [
    "from sklearn.ensemble import GradientBoostingClassifier\n",
    "\n",
    "# Assuming X_train and y_train are already defined and preprocessed:\n",
    "model = GradientBoostingClassifier()\n",
    "model.fit(X_train, y_train)\n",
    "\n",
    "# Get feature importance\n",
    "feature_importance = model.feature_importances_\n",
    "features = X_train.columns\n",
    "importance_df = pd.DataFrame({'Feature': features, 'Importance': feature_importance}).sort_values(by='Importance', ascending=False)\n",
    "\n",
    "print(importance_df)\n"
   ]
  },
  {
   "cell_type": "code",
   "execution_count": 5,
   "id": "85976715-0e2a-43da-8026-b87d27d12ec8",
   "metadata": {},
   "outputs": [
    {
     "data": {
      "image/png": "[encoded data removed]",
      "text/plain": [
       "<Figure size 800x500 with 1 Axes>"
      ]
     },
     "metadata": {},
     "output_type": "display_data"
    }
   ],
   "source": [
    "import matplotlib.pyplot as plt\n",
    "\n",
    "# Feature names and their importances\n",
    "features = ['Sex', 'Fare', 'Pclass']\n",
    "importances = [0.466540, 0.162500, 0.153362]\n",
    "\n",
    "plt.figure(figsize=(8, 5))  # Set the figure size\n",
    "plt.bar(features, importances, color=['blue', 'green', 'red'])  # Create a bar chart\n",
    "plt.xlabel('Features')  # Label for the x-axis\n",
    "plt.ylabel('Importance')  # Label for the y-axis\n",
    "plt.title('Comparison of Feature Importances')  # Title of the chart\n",
    "plt.show()\n"
   ]
  },
  {
   "cell_type": "code",
   "execution_count": 7,
   "id": "e9ec6ec6-fe8e-4f19-b40d-41e78cd4056b",
   "metadata": {},
   "outputs": [
    {
     "name": "stderr",
     "output_type": "stream",
     "text": [
      "C:\\Users\\gonzh\\AppData\\Local\\Temp\\ipykernel_76640\\3506221920.py:10: FutureWarning: \n",
      "\n",
      "The `ci` parameter is deprecated. Use `errorbar=None` for the same effect.\n",
      "\n",
      "  sns.barplot(x='Sex', y='Survived', data=data, ci=None, palette='pastel')\n",
      "C:\\Users\\gonzh\\AppData\\Local\\Temp\\ipykernel_76640\\3506221920.py:10: FutureWarning: \n",
      "\n",
      "Passing `palette` without assigning `hue` is deprecated and will be removed in v0.14.0. Assign the `x` variable to `hue` and set `legend=False` for the same effect.\n",
      "\n",
      "  sns.barplot(x='Sex', y='Survived', data=data, ci=None, palette='pastel')\n"
     ]
    },
    {
     "data": {
      "image/png": "[encoded data removed]",
      "text/plain": [
       "<Figure size 800x500 with 1 Axes>"
      ]
     },
     "metadata": {},
     "output_type": "display_data"
    }
   ],
   "source": [
    "import pandas as pd\n",
    "import seaborn as sns\n",
    "import matplotlib.pyplot as plt\n",
    "\n",
    "# Load the dataset\n",
    "data = pd.read_csv('Resources/train.csv')\n",
    "\n",
    "# Plotting using Seaborn\n",
    "plt.figure(figsize=(8, 5))\n",
    "sns.barplot(x='Sex', y='Survived', data=data, ci=None, palette='pastel')\n",
    "plt.xlabel('Gender')\n",
    "plt.ylabel('Survival Rate')\n",
    "plt.title('Survival Rates by Gender')\n",
    "plt.ylim(0, 1)  # Set y-axis to show proportions from 0 to 1\n",
    "plt.show()\n"
   ]
  },
  {
   "cell_type": "code",
   "execution_count": null,
   "id": "1f1e8034-24ef-4c08-b2ad-46d5fb0ffe76",
   "metadata": {},
   "outputs": [],
   "source": []
  }
 ],
 "metadata": {
  "kernelspec": {
   "display_name": "Python 3 (ipykernel)",
   "language": "python",
   "name": "python3"
  },
  "language_info": {
   "codemirror_mode": {
    "name": "ipython",
    "version": 3
   },
   "file_extension": ".py",
   "mimetype": "text/x-python",
   "name": "python",
   "nbconvert_exporter": "python",
   "pygments_lexer": "ipython3",
   "version": "3.10.11"
  }
 },
 "nbformat": 4,
 "nbformat_minor": 5
}
